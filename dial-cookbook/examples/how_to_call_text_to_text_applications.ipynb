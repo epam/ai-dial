{
 "cells": [
  {
   "cell_type": "markdown",
   "metadata": {},
   "source": [
    "# How to call text-to-text DIAL applications\n",
    "\n",
    "This notebook covers how to call text-to-text application via [DIAL API chat/completions](https://epam-rail.com/dial_api#/paths/~1openai~1deployments~1%7BDeployment%20Name%7D~1chat~1completions/post) call.\n",
    "\n",
    "## Setup\n",
    "\n",
    "Install the client libraries, which we will use to call the API.\n"
   ]
  },
  {
   "cell_type": "code",
   "execution_count": 1,
   "metadata": {},
   "outputs": [
    {
     "name": "stdout",
     "output_type": "stream",
     "text": [
      "Requirement already satisfied: requests==2.31.0 in /Users/anton_dubovik/Code/GitHub/ai-dial/.venv/lib/python3.11/site-packages (from -r ../python-notebooks-runner/requirements.txt (line 1)) (2.31.0)\n",
      "Requirement already satisfied: openai==1.9.0 in /Users/anton_dubovik/Code/GitHub/ai-dial/.venv/lib/python3.11/site-packages (from -r ../python-notebooks-runner/requirements.txt (line 2)) (1.9.0)\n",
      "Requirement already satisfied: langchain-openai==0.0.3 in /Users/anton_dubovik/Code/GitHub/ai-dial/.venv/lib/python3.11/site-packages (from -r ../python-notebooks-runner/requirements.txt (line 3)) (0.0.3)\n",
      "Requirement already satisfied: charset-normalizer<4,>=2 in /Users/anton_dubovik/Code/GitHub/ai-dial/.venv/lib/python3.11/site-packages (from requests==2.31.0->-r ../python-notebooks-runner/requirements.txt (line 1)) (3.3.2)\n",
      "Requirement already satisfied: idna<4,>=2.5 in /Users/anton_dubovik/Code/GitHub/ai-dial/.venv/lib/python3.11/site-packages (from requests==2.31.0->-r ../python-notebooks-runner/requirements.txt (line 1)) (3.6)\n",
      "Requirement already satisfied: urllib3<3,>=1.21.1 in /Users/anton_dubovik/Code/GitHub/ai-dial/.venv/lib/python3.11/site-packages (from requests==2.31.0->-r ../python-notebooks-runner/requirements.txt (line 1)) (2.1.0)\n",
      "Requirement already satisfied: certifi>=2017.4.17 in /Users/anton_dubovik/Code/GitHub/ai-dial/.venv/lib/python3.11/site-packages (from requests==2.31.0->-r ../python-notebooks-runner/requirements.txt (line 1)) (2023.11.17)\n",
      "Requirement already satisfied: anyio<5,>=3.5.0 in /Users/anton_dubovik/Code/GitHub/ai-dial/.venv/lib/python3.11/site-packages (from openai==1.9.0->-r ../python-notebooks-runner/requirements.txt (line 2)) (4.2.0)\n",
      "Requirement already satisfied: distro<2,>=1.7.0 in /Users/anton_dubovik/Code/GitHub/ai-dial/.venv/lib/python3.11/site-packages (from openai==1.9.0->-r ../python-notebooks-runner/requirements.txt (line 2)) (1.9.0)\n",
      "Requirement already satisfied: httpx<1,>=0.23.0 in /Users/anton_dubovik/Code/GitHub/ai-dial/.venv/lib/python3.11/site-packages (from openai==1.9.0->-r ../python-notebooks-runner/requirements.txt (line 2)) (0.26.0)\n",
      "Requirement already satisfied: pydantic<3,>=1.9.0 in /Users/anton_dubovik/Code/GitHub/ai-dial/.venv/lib/python3.11/site-packages (from openai==1.9.0->-r ../python-notebooks-runner/requirements.txt (line 2)) (2.5.3)\n",
      "Requirement already satisfied: sniffio in /Users/anton_dubovik/Code/GitHub/ai-dial/.venv/lib/python3.11/site-packages (from openai==1.9.0->-r ../python-notebooks-runner/requirements.txt (line 2)) (1.3.0)\n",
      "Requirement already satisfied: tqdm>4 in /Users/anton_dubovik/Code/GitHub/ai-dial/.venv/lib/python3.11/site-packages (from openai==1.9.0->-r ../python-notebooks-runner/requirements.txt (line 2)) (4.66.1)\n",
      "Requirement already satisfied: typing-extensions<5,>=4.7 in /Users/anton_dubovik/Code/GitHub/ai-dial/.venv/lib/python3.11/site-packages (from openai==1.9.0->-r ../python-notebooks-runner/requirements.txt (line 2)) (4.9.0)\n",
      "Requirement already satisfied: langchain-core<0.2,>=0.1.13 in /Users/anton_dubovik/Code/GitHub/ai-dial/.venv/lib/python3.11/site-packages (from langchain-openai==0.0.3->-r ../python-notebooks-runner/requirements.txt (line 3)) (0.1.14)\n",
      "Requirement already satisfied: numpy<2,>=1 in /Users/anton_dubovik/Code/GitHub/ai-dial/.venv/lib/python3.11/site-packages (from langchain-openai==0.0.3->-r ../python-notebooks-runner/requirements.txt (line 3)) (1.26.3)\n",
      "Requirement already satisfied: tiktoken<0.6.0,>=0.5.2 in /Users/anton_dubovik/Code/GitHub/ai-dial/.venv/lib/python3.11/site-packages (from langchain-openai==0.0.3->-r ../python-notebooks-runner/requirements.txt (line 3)) (0.5.2)\n",
      "Requirement already satisfied: httpcore==1.* in /Users/anton_dubovik/Code/GitHub/ai-dial/.venv/lib/python3.11/site-packages (from httpx<1,>=0.23.0->openai==1.9.0->-r ../python-notebooks-runner/requirements.txt (line 2)) (1.0.2)\n",
      "Requirement already satisfied: h11<0.15,>=0.13 in /Users/anton_dubovik/Code/GitHub/ai-dial/.venv/lib/python3.11/site-packages (from httpcore==1.*->httpx<1,>=0.23.0->openai==1.9.0->-r ../python-notebooks-runner/requirements.txt (line 2)) (0.14.0)\n",
      "Requirement already satisfied: PyYAML>=5.3 in /Users/anton_dubovik/Code/GitHub/ai-dial/.venv/lib/python3.11/site-packages (from langchain-core<0.2,>=0.1.13->langchain-openai==0.0.3->-r ../python-notebooks-runner/requirements.txt (line 3)) (6.0.1)\n",
      "Requirement already satisfied: jsonpatch<2.0,>=1.33 in /Users/anton_dubovik/Code/GitHub/ai-dial/.venv/lib/python3.11/site-packages (from langchain-core<0.2,>=0.1.13->langchain-openai==0.0.3->-r ../python-notebooks-runner/requirements.txt (line 3)) (1.33)\n",
      "Requirement already satisfied: langsmith<0.0.84,>=0.0.83 in /Users/anton_dubovik/Code/GitHub/ai-dial/.venv/lib/python3.11/site-packages (from langchain-core<0.2,>=0.1.13->langchain-openai==0.0.3->-r ../python-notebooks-runner/requirements.txt (line 3)) (0.0.83)\n",
      "Requirement already satisfied: packaging<24.0,>=23.2 in /Users/anton_dubovik/Code/GitHub/ai-dial/.venv/lib/python3.11/site-packages (from langchain-core<0.2,>=0.1.13->langchain-openai==0.0.3->-r ../python-notebooks-runner/requirements.txt (line 3)) (23.2)\n",
      "Requirement already satisfied: tenacity<9.0.0,>=8.1.0 in /Users/anton_dubovik/Code/GitHub/ai-dial/.venv/lib/python3.11/site-packages (from langchain-core<0.2,>=0.1.13->langchain-openai==0.0.3->-r ../python-notebooks-runner/requirements.txt (line 3)) (8.2.3)\n",
      "Requirement already satisfied: annotated-types>=0.4.0 in /Users/anton_dubovik/Code/GitHub/ai-dial/.venv/lib/python3.11/site-packages (from pydantic<3,>=1.9.0->openai==1.9.0->-r ../python-notebooks-runner/requirements.txt (line 2)) (0.6.0)\n",
      "Requirement already satisfied: pydantic-core==2.14.6 in /Users/anton_dubovik/Code/GitHub/ai-dial/.venv/lib/python3.11/site-packages (from pydantic<3,>=1.9.0->openai==1.9.0->-r ../python-notebooks-runner/requirements.txt (line 2)) (2.14.6)\n",
      "Requirement already satisfied: regex>=2022.1.18 in /Users/anton_dubovik/Code/GitHub/ai-dial/.venv/lib/python3.11/site-packages (from tiktoken<0.6.0,>=0.5.2->langchain-openai==0.0.3->-r ../python-notebooks-runner/requirements.txt (line 3)) (2023.12.25)\n",
      "Requirement already satisfied: jsonpointer>=1.9 in /Users/anton_dubovik/Code/GitHub/ai-dial/.venv/lib/python3.11/site-packages (from jsonpatch<2.0,>=1.33->langchain-core<0.2,>=0.1.13->langchain-openai==0.0.3->-r ../python-notebooks-runner/requirements.txt (line 3)) (2.4)\n",
      "Note: you may need to restart the kernel to use updated packages.\n"
     ]
    }
   ],
   "source": [
    "%pip install -r ../python-notebooks-runner/requirements.txt"
   ]
  },
  {
   "cell_type": "markdown",
   "metadata": {},
   "source": [
    "Run the docker compose file in a separate terminal to start the DIAL Core server locally.\n",
    "\n",
    "```sh\n",
    "(cd ../dial-docker-compose/application; docker compose up)\n",
    "```"
   ]
  },
  {
   "cell_type": "markdown",
   "metadata": {},
   "source": [
    "Configure DIAL Core ULR: if DIAL Core is run locally via `docker compose`, it's going to be `http://localhost:8080`."
   ]
  },
  {
   "cell_type": "code",
   "execution_count": 14,
   "metadata": {},
   "outputs": [],
   "source": [
    "import os\n",
    "dial_url = os.environ.get(\"DIAL_URL\", \"http://localhost:8080\")\n",
    "os.environ[\"DIAL_URL\"] = dial_url"
   ]
  },
  {
   "cell_type": "markdown",
   "metadata": {},
   "source": [
    "## Curl\n",
    "\n",
    "The echo application deployment is called `echo`.\n",
    "\n",
    "The local DIAL Core server URL is `dial_url`.\n",
    "\n",
    "The OpenAI API version we are going to use is `2023-03-15-preview`.\n",
    "\n",
    "Hence the echo application is accessible via the url:\n",
    "\n",
    "```\n",
    "http://${DIAL_URL}/openai/deployments/echo/chat/completions?api-version=2023-03-15-preview\n",
    "```"
   ]
  },
  {
   "cell_type": "markdown",
   "metadata": {},
   "source": [
    "The corresponding curl command with a singe message in the request is:"
   ]
  },
  {
   "cell_type": "code",
   "execution_count": 15,
   "metadata": {},
   "outputs": [
    {
     "name": "stdout",
     "output_type": "stream",
     "text": [
      "curl: (7) Failed to connect to localhost port 8080 after 0 ms: Couldn't connect to server\n"
     ]
    }
   ],
   "source": [
    "!curl -X POST \"${DIAL_URL}/openai/deployments/echo/chat/completions?api-version=2023-03-15-preview\" -H \"Api-Key:dial_api_key\" -H \"Content-Type:application/json\" -d '{\"messages\": [{\"role\": \"user\", \"content\": \"Hello world!\"}]}'"
   ]
  },
  {
   "cell_type": "markdown",
   "metadata": {},
   "source": [
    "## Requests\n"
   ]
  },
  {
   "cell_type": "markdown",
   "metadata": {},
   "source": [
    "Let's make an HTTP request from Python using `requests` library and make sure the return message matches the message in the request.\n",
    "\n",
    "The arguments are identical to the curl command above.\n",
    "\n",
    "### Non-streaming\n"
   ]
  },
  {
   "cell_type": "code",
   "execution_count": 24,
   "metadata": {},
   "outputs": [
    {
     "data": {
      "text/plain": [
       "{'choices': [{'index': 0,\n",
       "   'finish_reason': 'stop',\n",
       "   'message': {'role': 'assistant', 'content': 'Hello world!'}}],\n",
       " 'usage': None,\n",
       " 'id': '60b18019-2493-423c-b08b-b563ba1ebbab',\n",
       " 'created': 1706007495,\n",
       " 'object': 'chat.completion'}"
      ]
     },
     "metadata": {},
     "output_type": "display_data"
    },
    {
     "name": "stdout",
     "output_type": "stream",
     "text": [
      "Completion: 'Hello world!'\n"
     ]
    }
   ],
   "source": [
    "import requests\n",
    "\n",
    "response = requests.post(\n",
    "    f\"{dial_url}/openai/deployments/echo/chat/completions?api-version=2023-03-15-preview\",\n",
    "    headers={\"Api-Key\": \"dial_api_key\"},\n",
    "    json={\"messages\": [{\"role\": \"user\", \"content\": \"Hello world!\"}]},\n",
    ")\n",
    "body = response.json()\n",
    "display(body)\n",
    "completion = body[\"choices\"][0][\"message\"][\"content\"]\n",
    "print(f\"Completion: {completion!r}\")\n",
    "assert completion == \"Hello world!\", \"Unexpected completion\""
   ]
  },
  {
   "cell_type": "markdown",
   "metadata": {},
   "source": [
    "### Streaming\n",
    "\n",
    "When streaming is enabled, the chat completion returns a sequence of message, each containing a chunk of a generated response.\n"
   ]
  },
  {
   "cell_type": "code",
   "execution_count": 25,
   "metadata": {},
   "outputs": [
    {
     "name": "stdout",
     "output_type": "stream",
     "text": [
      "b'data: {\"choices\":[{\"index\":0,\"finish_reason\":null,\"delta\":{\"role\":\"assistant\"}}],\"usage\":null,\"id\":\"50fde6fd-2927-46b8-9aae-750eed43ccb4\",\"created\":1706007518,\"object\":\"chat.completion.chunk\"}'\n",
      "b''\n",
      "b'data: {\"choices\":[{\"index\":0,\"finish_reason\":null,\"delta\":{\"content\":\"Hello world!\"}}],\"usage\":null,\"id\":\"50fde6fd-2927-46b8-9aae-750eed43ccb4\",\"created\":1706007518,\"object\":\"chat.completion.chunk\"}'\n",
      "b''\n",
      "b'data: {\"choices\":[{\"index\":0,\"finish_reason\":\"stop\",\"delta\":{}}],\"usage\":null,\"id\":\"50fde6fd-2927-46b8-9aae-750eed43ccb4\",\"created\":1706007518,\"object\":\"chat.completion.chunk\"}'\n",
      "b''\n",
      "b'data: [DONE]'\n",
      "b''\n"
     ]
    }
   ],
   "source": [
    "response = requests.post(\n",
    "    f\"{dial_url}/openai/deployments/echo/chat/completions?api-version=2023-03-15-preview\",\n",
    "    headers={\"Api-Key\": \"dial_api_key\"},\n",
    "    json={\"messages\": [{\"role\": \"user\", \"content\": \"Hello world!\"}], \"stream\": True},\n",
    ")\n",
    "for chunk in response.iter_lines():\n",
    "    print(chunk)"
   ]
  },
  {
   "cell_type": "markdown",
   "metadata": {},
   "source": [
    "## OpenAI Python SDK\n",
    "\n",
    "The DIAL deployment could be called using [OpenAI Python SDK](https://pypi.org/project/openai/) as well.\n"
   ]
  },
  {
   "cell_type": "code",
   "execution_count": 26,
   "metadata": {},
   "outputs": [
    {
     "name": "stdout",
     "output_type": "stream",
     "text": [
      "ChatCompletion(id='babfc0ab-d375-4b45-9972-2305b933adef', choices=[Choice(finish_reason='stop', index=0, logprobs=None, message=ChatCompletionMessage(content='Hello world!', role='assistant', function_call=None, tool_calls=None))], created=1706007553, model=None, object='chat.completion', system_fingerprint=None, usage=None)\n",
      "Completion: 'Hello world!'\n"
     ]
    }
   ],
   "source": [
    "import openai\n",
    "\n",
    "openai_client = openai.AzureOpenAI(\n",
    "    azure_endpoint=dial_url,\n",
    "    azure_deployment=\"echo\",\n",
    "    api_key=\"dial_api_key\",\n",
    "    api_version=\"2023-03-15-preview\",\n",
    ")\n",
    "\n",
    "chat_completion = openai_client.chat.completions.create(\n",
    "    messages=[\n",
    "        {\n",
    "            \"role\": \"user\",\n",
    "            \"content\": \"Hello world!\",\n",
    "        }\n",
    "    ],\n",
    "    model=\"echo\",\n",
    ")\n",
    "print(chat_completion)\n",
    "completion = chat_completion.choices[0].message.content\n",
    "print(f\"Completion: {completion!r}\")\n",
    "assert completion == \"Hello world!\", \"Unexpected completion\""
   ]
  },
  {
   "cell_type": "markdown",
   "metadata": {},
   "source": [
    "## LangChain\n",
    "\n",
    "Or via [LangChain](https://pypi.org/project/langchain-openai/) library\n"
   ]
  },
  {
   "cell_type": "code",
   "execution_count": 27,
   "metadata": {},
   "outputs": [
    {
     "name": "stdout",
     "output_type": "stream",
     "text": [
      "generations=[[ChatGeneration(text='Hello world!', generation_info={'finish_reason': 'stop', 'logprobs': None}, message=AIMessage(content='Hello world!'))]] llm_output={'token_usage': {}, 'model_name': 'gpt-3.5-turbo'} run=[RunInfo(run_id=UUID('c6a5c264-51ec-4bb0-aea8-bb96ea570e62'))]\n",
      "Completion: 'Hello world!'\n"
     ]
    }
   ],
   "source": [
    "from langchain_core.messages import HumanMessage\n",
    "from langchain_openai import AzureChatOpenAI\n",
    "\n",
    "llm = AzureChatOpenAI(\n",
    "    azure_endpoint=dial_url,\n",
    "    azure_deployment=\"echo\",\n",
    "    api_key=\"dial_api_key\",\n",
    "    api_version=\"2023-03-15-preview\",\n",
    ")\n",
    "\n",
    "output = llm.generate(messages=[[HumanMessage(content=\"Hello world!\")]])\n",
    "print(output)\n",
    "completion = output.generations[0][0].text\n",
    "print(f\"Completion: {completion!r}\")\n",
    "assert completion == \"Hello world!\", \"Unexpected completion\""
   ]
  }
 ],
 "metadata": {
  "kernelspec": {
   "display_name": ".venv",
   "language": "python",
   "name": "python3"
  },
  "language_info": {
   "codemirror_mode": {
    "name": "ipython",
    "version": 3
   },
   "file_extension": ".py",
   "mimetype": "text/x-python",
   "name": "python",
   "nbconvert_exporter": "python",
   "pygments_lexer": "ipython3",
   "version": "3.11.7"
  }
 },
 "nbformat": 4,
 "nbformat_minor": 2
}
